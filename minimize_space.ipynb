{
 "cells": [
  {
   "cell_type": "code",
   "execution_count": 13,
   "metadata": {},
   "outputs": [],
   "source": [
    "import random\n",
    "from pathlib import Path\n",
    "\n",
    "import graphix.command\n",
    "import numpy as np\n",
    "import stim\n",
    "import veriphix.client\n",
    "from graphix.fundamentals import IXYZ\n",
    "from graphix.noise_models import DepolarisingNoiseModel, NoiseModel\n",
    "from graphix.pauli import Pauli\n",
    "from graphix.random_objects import Circuit, rand_circuit\n",
    "from graphix.sim.density_matrix import DensityMatrixBackend\n",
    "from graphix.sim.statevec import Statevec, StatevectorBackend\n",
    "from graphix.states import BasicStates\n",
    "from veriphix.client import CircuitUtils, Client, Secrets, TrappifiedCanvas\n",
    "import matplotlib.pyplot as plt\n",
    "import seaborn as sns\n",
    "from scipy.stats import norm\n",
    "\n",
    "import gospel.brickwork_state_transpiler\n",
    "from gospel.scripts.qasm2brickwork_state import read_qasm, draw_brickwork_state_colormap"
   ]
  },
  {
   "cell_type": "code",
   "execution_count": 14,
   "metadata": {},
   "outputs": [
    {
     "name": "stdout",
     "output_type": "stream",
     "text": [
      "[CNOT(target=3, control=2), RX(target=2, angle=1.5707963267948966, meas_index=None), RX(target=3, angle=1.5707963267948966, meas_index=None), RZ(target=3, angle=1.5707963267948966, meas_index=None), CNOT(target=2, control=1), RZ(target=2, angle=5.497787143782138, meas_index=None), RX(target=3, angle=2.356194490192345, meas_index=None), CNOT(target=2, control=3), CNOT(target=2, control=1), CNOT(target=0, control=1), RX(target=1, angle=0.7853981633974483, meas_index=None)]\n",
      "[N(node=4), E(nodes=(0, 4)), M(node=0), X(node=4, domain={0}), N(node=5), E(nodes=(1, 5)), M(node=1), X(node=5, domain={1}), N(node=6), E(nodes=(2, 6)), M(node=2), X(node=6, domain={2}), N(node=7), E(nodes=(3, 7)), M(node=3), X(node=7, domain={3}), N(node=8), E(nodes=(4, 8)), M(node=4), X(node=8, domain={4}), N(node=9), E(nodes=(5, 9)), M(node=5), X(node=9, domain={5}), N(node=10), E(nodes=(6, 10)), M(node=6), X(node=10, domain={6}), N(node=11), E(nodes=(7, 11)), M(node=7,angle=0.5), X(node=11, domain={7}), E(nodes=(8, 9)), N(node=12), E(nodes=(8, 12)), M(node=8), X(node=12, domain={8}), N(node=13), E(nodes=(9, 13)), M(node=9), X(node=13, domain={9}), E(nodes=(10, 11)), N(node=14), E(nodes=(10, 14)), M(node=10,angle=0.5), X(node=14, domain={10}), N(node=15), E(nodes=(11, 15)), M(node=11), X(node=15, domain={11}), N(node=16), E(nodes=(12, 16)), M(node=12), X(node=16, domain={12}), N(node=17), E(nodes=(13, 17)), M(node=13), X(node=17, domain={13}), N(node=18), E(nodes=(14, 18)), M(node=14), X(node=18, domain={14}), N(node=19), E(nodes=(15, 19)), M(node=15,angle=-0.5), X(node=19, domain={15}), E(nodes=(16, 17)), N(node=20), E(nodes=(16, 20)), M(node=16), X(node=20, domain={16}), N(node=21), E(nodes=(17, 21)), M(node=17), X(node=21, domain={17}), E(nodes=(18, 19)), N(node=22), E(nodes=(18, 22)), M(node=18), X(node=22, domain={18}), N(node=23), E(nodes=(19, 23)), M(node=19), X(node=23, domain={19}), N(node=24), E(nodes=(20, 24)), M(node=20), X(node=24, domain={20}), N(node=25), E(nodes=(21, 25)), M(node=21), X(node=25, domain={21}), N(node=26), E(nodes=(22, 26)), M(node=22,angle=-0.5), X(node=26, domain={22}), N(node=27), E(nodes=(23, 27)), M(node=23), X(node=27, domain={23}), N(node=28), E(nodes=(24, 28)), M(node=24), X(node=28, domain={24}), E(nodes=(25, 26)), N(node=29), E(nodes=(25, 29)), M(node=25), X(node=29, domain={25}), N(node=30), E(nodes=(26, 30)), M(node=26), X(node=30, domain={26}), N(node=31), E(nodes=(27, 31)), M(node=27), X(node=31, domain={27}), N(node=32), E(nodes=(28, 32)), M(node=28), X(node=32, domain={28}), N(node=33), E(nodes=(29, 33)), M(node=29), X(node=33, domain={29}), N(node=34), E(nodes=(30, 34)), M(node=30), X(node=34, domain={30}), N(node=35), E(nodes=(31, 35)), M(node=31), X(node=35, domain={31}), N(node=36), E(nodes=(32, 36)), M(node=32), X(node=36, domain={32}), E(nodes=(33, 34)), N(node=37), E(nodes=(33, 37)), M(node=33), X(node=37, domain={33}), N(node=38), E(nodes=(34, 38)), M(node=34), X(node=38, domain={34}), N(node=39), E(nodes=(35, 39)), M(node=35), X(node=39, domain={35}), N(node=40), E(nodes=(36, 40)), M(node=36), X(node=40, domain={36}), N(node=41), E(nodes=(37, 41)), M(node=37), X(node=41, domain={37}), N(node=42), E(nodes=(38, 42)), M(node=38), X(node=42, domain={38}), N(node=43), E(nodes=(39, 43)), M(node=39,angle=-0.5), X(node=43, domain={39}), E(nodes=(40, 41)), N(node=44), E(nodes=(40, 44)), M(node=40), X(node=44, domain={40}), N(node=45), E(nodes=(41, 45)), M(node=41), X(node=45, domain={41}), E(nodes=(42, 43)), N(node=46), E(nodes=(42, 46)), M(node=42), X(node=46, domain={42}), N(node=47), E(nodes=(43, 47)), M(node=43,angle=-0.5), X(node=47, domain={43}), N(node=48), E(nodes=(44, 48)), M(node=44), X(node=48, domain={44}), N(node=49), E(nodes=(45, 49)), M(node=45), X(node=49, domain={45}), N(node=50), E(nodes=(46, 50)), M(node=46), X(node=50, domain={46}), N(node=51), E(nodes=(47, 51)), M(node=47), X(node=51, domain={47}), E(nodes=(48, 49)), N(node=52), E(nodes=(48, 52)), M(node=48), X(node=52, domain={48}), N(node=53), E(nodes=(49, 53)), M(node=49), X(node=53, domain={49}), E(nodes=(50, 51)), N(node=54), E(nodes=(50, 54)), M(node=50), X(node=54, domain={50}), N(node=55), E(nodes=(51, 55)), M(node=51), X(node=55, domain={51}), N(node=56), E(nodes=(52, 56)), M(node=52), X(node=56, domain={52}), N(node=57), E(nodes=(53, 57)), M(node=53), X(node=57, domain={53}), N(node=58), E(nodes=(54, 58)), M(node=54,angle=0.5), X(node=58, domain={54}), N(node=59), E(nodes=(55, 59)), M(node=55), X(node=59, domain={55}), N(node=60), E(nodes=(56, 60)), M(node=56), X(node=60, domain={56}), E(nodes=(57, 58)), N(node=61), E(nodes=(57, 61)), M(node=57,angle=0.5), X(node=61, domain={57}), N(node=62), E(nodes=(58, 62)), M(node=58), X(node=62, domain={58}), N(node=63), E(nodes=(59, 63)), M(node=59), X(node=63, domain={59}), N(node=64), E(nodes=(60, 64)), M(node=60), X(node=64, domain={60}), N(node=65), E(nodes=(61, 65)), M(node=61), X(node=65, domain={61}), N(node=66), E(nodes=(62, 66)), M(node=62,angle=-0.5), X(node=66, domain={62}), N(node=67), E(nodes=(63, 67)), M(node=63), X(node=67, domain={63}), N(node=68), E(nodes=(64, 68)), M(node=64), X(node=68, domain={64}), E(nodes=(65, 66)), N(node=69), E(nodes=(65, 69)), M(node=65), X(node=69, domain={65}), N(node=70), E(nodes=(66, 70)), M(node=66,angle=-1.75), X(node=70, domain={66}), N(node=71), E(nodes=(67, 71)), M(node=67), X(node=71, domain={67}), N(node=72), E(nodes=(68, 72)), M(node=68), X(node=72, domain={68}), N(node=73), E(nodes=(69, 73)), M(node=69), X(node=73, domain={69}), N(node=74), E(nodes=(70, 74)), M(node=70), X(node=74, domain={70}), N(node=75), E(nodes=(71, 75)), M(node=71,angle=-0.75), X(node=75, domain={71}), E(nodes=(72, 73)), N(node=76), E(nodes=(72, 76)), M(node=72), X(node=76, domain={72}), N(node=77), E(nodes=(73, 77)), M(node=73), X(node=77, domain={73}), E(nodes=(74, 75)), N(node=78), E(nodes=(74, 78)), M(node=74), X(node=78, domain={74}), N(node=79), E(nodes=(75, 79)), M(node=75), X(node=79, domain={75}), N(node=80), E(nodes=(76, 80)), M(node=76), X(node=80, domain={76}), N(node=81), E(nodes=(77, 81)), M(node=77), X(node=81, domain={77}), N(node=82), E(nodes=(78, 82)), M(node=78), X(node=82, domain={78}), N(node=83), E(nodes=(79, 83)), M(node=79), X(node=83, domain={79}), E(nodes=(80, 81)), N(node=84), E(nodes=(80, 84)), M(node=80), X(node=84, domain={80}), N(node=85), E(nodes=(81, 85)), M(node=81), X(node=85, domain={81}), E(nodes=(82, 83)), N(node=86), E(nodes=(82, 86)), M(node=82), X(node=86, domain={82}), N(node=87), E(nodes=(83, 87)), M(node=83), X(node=87, domain={83}), N(node=88), E(nodes=(84, 88)), M(node=84), X(node=88, domain={84}), N(node=89), E(nodes=(85, 89)), M(node=85), X(node=89, domain={85}), N(node=90), E(nodes=(86, 90)), M(node=86), X(node=90, domain={86}), N(node=91), E(nodes=(87, 91)), M(node=87), X(node=91, domain={87}), N(node=92), E(nodes=(88, 92)), M(node=88), X(node=92, domain={88}), E(nodes=(89, 90)), N(node=93), E(nodes=(89, 93)), M(node=89), X(node=93, domain={89}), N(node=94), E(nodes=(90, 94)), M(node=90), X(node=94, domain={90}), N(node=95), E(nodes=(91, 95)), M(node=91), X(node=95, domain={91}), N(node=96), E(nodes=(92, 96)), M(node=92), X(node=96, domain={92}), N(node=97), E(nodes=(93, 97)), M(node=93), X(node=97, domain={93}), N(node=98), E(nodes=(94, 98)), M(node=94), X(node=98, domain={94}), N(node=99), E(nodes=(95, 99)), M(node=95), X(node=99, domain={95}), N(node=100), E(nodes=(96, 100)), M(node=96), X(node=100, domain={96}), E(nodes=(97, 98)), N(node=101), E(nodes=(97, 101)), M(node=97), X(node=101, domain={97}), N(node=102), E(nodes=(98, 102)), M(node=98), X(node=102, domain={98}), N(node=103), E(nodes=(99, 103)), M(node=99), X(node=103, domain={99}), N(node=104), E(nodes=(100, 104)), M(node=100), X(node=104, domain={100}), N(node=105), E(nodes=(101, 105)), M(node=101), X(node=105, domain={101}), N(node=106), E(nodes=(102, 106)), M(node=102,angle=0.5), X(node=106, domain={102}), N(node=107), E(nodes=(103, 107)), M(node=103), X(node=107, domain={103}), E(nodes=(104, 105)), N(node=108), E(nodes=(104, 108)), M(node=104), X(node=108, domain={104}), N(node=109), E(nodes=(105, 109)), M(node=105), X(node=109, domain={105}), E(nodes=(106, 107)), N(node=110), E(nodes=(106, 110)), M(node=106), X(node=110, domain={106}), N(node=111), E(nodes=(107, 111)), M(node=107,angle=0.5), X(node=111, domain={107}), N(node=112), E(nodes=(108, 112)), M(node=108), X(node=112, domain={108}), N(node=113), E(nodes=(109, 113)), M(node=109), X(node=113, domain={109}), N(node=114), E(nodes=(110, 114)), M(node=110,angle=-0.5), X(node=114, domain={110}), N(node=115), E(nodes=(111, 115)), M(node=111), X(node=115, domain={111}), E(nodes=(112, 113)), N(node=116), E(nodes=(112, 116)), M(node=112), X(node=116, domain={112}), N(node=117), E(nodes=(113, 117)), M(node=113), X(node=117, domain={113}), E(nodes=(114, 115)), N(node=118), E(nodes=(114, 118)), M(node=114), X(node=118, domain={114}), N(node=119), E(nodes=(115, 119)), M(node=115), X(node=119, domain={115}), N(node=120), E(nodes=(116, 120)), M(node=116), X(node=120, domain={116}), N(node=121), E(nodes=(117, 121)), M(node=117), X(node=121, domain={117}), N(node=122), E(nodes=(118, 122)), M(node=118,angle=0.5), X(node=122, domain={118}), N(node=123), E(nodes=(119, 123)), M(node=119), X(node=123, domain={119}), N(node=124), E(nodes=(120, 124)), M(node=120), X(node=124, domain={120}), E(nodes=(121, 122)), N(node=125), E(nodes=(121, 125)), M(node=121,angle=0.5), X(node=125, domain={121}), N(node=126), E(nodes=(122, 126)), M(node=122), X(node=126, domain={122}), N(node=127), E(nodes=(123, 127)), M(node=123), X(node=127, domain={123}), N(node=128), E(nodes=(124, 128)), M(node=124), X(node=128, domain={124}), N(node=129), E(nodes=(125, 129)), M(node=125), X(node=129, domain={125}), N(node=130), E(nodes=(126, 130)), M(node=126,angle=-0.5), X(node=130, domain={126}), N(node=131), E(nodes=(127, 131)), M(node=127), X(node=131, domain={127}), N(node=132), E(nodes=(128, 132)), M(node=128), X(node=132, domain={128}), E(nodes=(129, 130)), N(node=133), E(nodes=(129, 133)), M(node=129), X(node=133, domain={129}), N(node=134), E(nodes=(130, 134)), M(node=130), X(node=134, domain={130}), N(node=135), E(nodes=(131, 135)), M(node=131), X(node=135, domain={131}), N(node=136), E(nodes=(132, 136)), M(node=132,angle=0.5), X(node=136, domain={132}), N(node=137), E(nodes=(133, 137)), M(node=133), X(node=137, domain={133}), N(node=138), E(nodes=(134, 138)), M(node=134), X(node=138, domain={134}), N(node=139), E(nodes=(135, 139)), M(node=135), X(node=139, domain={135}), E(nodes=(136, 137)), N(node=140), E(nodes=(136, 140)), M(node=136), X(node=140, domain={136}), N(node=141), E(nodes=(137, 141)), M(node=137,angle=0.5), X(node=141, domain={137}), E(nodes=(138, 139)), N(node=142), E(nodes=(138, 142)), M(node=138), X(node=142, domain={138}), N(node=143), E(nodes=(139, 143)), M(node=139), X(node=143, domain={139}), N(node=144), E(nodes=(140, 144)), M(node=140,angle=-0.5), X(node=144, domain={140}), N(node=145), E(nodes=(141, 145)), M(node=141), X(node=145, domain={141}), N(node=146), E(nodes=(142, 146)), M(node=142), X(node=146, domain={142}), N(node=147), E(nodes=(143, 147)), M(node=143), X(node=147, domain={143}), E(nodes=(144, 145)), N(node=148), E(nodes=(144, 148)), M(node=144), X(node=148, domain={144}), N(node=149), E(nodes=(145, 149)), M(node=145), X(node=149, domain={145}), E(nodes=(146, 147)), N(node=150), E(nodes=(146, 150)), M(node=146), X(node=150, domain={146}), N(node=151), E(nodes=(147, 151)), M(node=147), X(node=151, domain={147}), N(node=152), E(nodes=(148, 152)), M(node=148), X(node=152, domain={148}), N(node=153), E(nodes=(149, 153)), M(node=149,angle=-0.25), X(node=153, domain={149}), N(node=154), E(nodes=(150, 154)), M(node=150), X(node=154, domain={150}), N(node=155), E(nodes=(151, 155)), M(node=151), X(node=155, domain={151}), N(node=156), E(nodes=(152, 156)), M(node=152), X(node=156, domain={152}), E(nodes=(153, 154)), N(node=157), E(nodes=(153, 157)), M(node=153), X(node=157, domain={153}), N(node=158), E(nodes=(154, 158)), M(node=154), X(node=158, domain={154}), N(node=159), E(nodes=(155, 159)), M(node=155), X(node=159, domain={155}), N(node=160), E(nodes=(156, 160)), M(node=156), X(node=160, domain={156}), N(node=161), E(nodes=(157, 161)), M(node=157), X(node=161, domain={157}), N(node=162), E(nodes=(158, 162)), M(node=158), X(node=162, domain={158}), N(node=163), E(nodes=(159, 163)), M(node=159), X(node=163, domain={159}), E(nodes=(161, 162))]\n",
      "Number of nodes in the pattern : 164\n"
     ]
    }
   ],
   "source": [
    "## Load a circuit with success probability p = 0.7839549798834848\n",
    "# BQP error\n",
    "# context handler open renvoie f et à la fin ferme le fichier\n",
    "# valeur à durer de vie, resource libéré.\n",
    "\n",
    "with Path(\"circuits/circuit000.qasm\").open() as f:\n",
    "    circuit = read_qasm(f)\n",
    "\n",
    "print(circuit.instruction)\n",
    "\n",
    "pattern = gospel.brickwork_state_transpiler.transpile(circuit)\n",
    "\n",
    "print(list(pattern))\n",
    "\n",
    "\n",
    "## Measure output nodes, to have classical output\n",
    "classical_output = pattern.output_nodes\n",
    "for onode in classical_output:\n",
    "    pattern.add(graphix.command.M(node=onode))\n",
    "\n",
    "states = [BasicStates.PLUS] * len(pattern.input_nodes)\n",
    "\n",
    "# correct since the pattern is transpiled from a circuit and hence has a causal flow\n",
    "pattern.minimize_space()\n",
    "\n",
    "print(f\"Number of nodes in the pattern : {pattern.n_node}\")\n"
   ]
  },
  {
   "cell_type": "code",
   "execution_count": 15,
   "metadata": {},
   "outputs": [
    {
     "name": "stdout",
     "output_type": "stream",
     "text": [
      "[160, 161, 162, 163]\n"
     ]
    }
   ],
   "source": [
    "def load_pattern_from_circuit(circuit_label:str):\n",
    "    with Path(f\"circuits/{circuit_label}\").open() as f:\n",
    "        circuit = read_qasm(f)\n",
    "        pattern = gospel.brickwork_state_transpiler.transpile(circuit)\n",
    "\n",
    "        ## Measure output nodes, to have classical output\n",
    "        classical_output = pattern.output_nodes\n",
    "        for onode in classical_output:\n",
    "            pattern.add(graphix.command.M(node=onode))\n",
    "\n",
    "        states = [BasicStates.PLUS] * len(pattern.input_nodes)\n",
    "\n",
    "        # correct since the pattern is transpiled from a circuit and hence has a causal flow\n",
    "        pattern.minimize_space()\n",
    "    return pattern, classical_output\n",
    "\n",
    "pattern, onodes = load_pattern_from_circuit(\"circuit000.qasm\")\n",
    "print(onodes)"
   ]
  },
  {
   "cell_type": "markdown",
   "metadata": {},
   "source": [
    "### Filter circuits"
   ]
  },
  {
   "cell_type": "code",
   "execution_count": 16,
   "metadata": {},
   "outputs": [
    {
     "name": "stdout",
     "output_type": "stream",
     "text": [
      "309\n"
     ]
    }
   ],
   "source": [
    "import json\n",
    "from pathlib import Path\n",
    "with Path(\"circuits/table.json\").open() as f:\n",
    "    table = json.load(f)\n",
    "    circuits = [name for name,prob in table.items() if prob < 0.2]\n",
    "    # for these, the correct value is 0.\n",
    "    print(len(circuits))"
   ]
  },
  {
   "cell_type": "markdown",
   "metadata": {},
   "source": [
    "### Defining global noise model"
   ]
  },
  {
   "cell_type": "code",
   "execution_count": 5,
   "metadata": {},
   "outputs": [],
   "source": [
    "\"\"\"Global noise model.\"\"\"\n",
    "\n",
    "from __future__ import annotations\n",
    "\n",
    "from typing import TYPE_CHECKING\n",
    "\n",
    "import typing_extensions\n",
    "\n",
    "from graphix.channels import KrausChannel, dephasing_channel\n",
    "from graphix.command import Command, CommandKind, BaseM\n",
    "from graphix.noise_models.noise_model import Noise, NoiseModel, NoiseCommands, CommandOrNoise\n",
    "from graphix.rng import ensure_rng\n",
    "import random\n",
    "\n",
    "\n",
    "if TYPE_CHECKING:\n",
    "    from numpy.random import Generator\n",
    "\n",
    "\n",
    "class GlobalNoiseModel(NoiseModel):\n",
    "    \"\"\"Global noise model.\n",
    "\n",
    "    :param NoiseModel: Parent abstract class class:`graphix.noise_model.NoiseModel`\n",
    "    :type NoiseModel: class\n",
    "    \"\"\"\n",
    "\n",
    "    def __init__(\n",
    "        self,\n",
    "        nodes: list[int],\n",
    "        prob: float = 0.0,\n",
    "        rng: Generator = None,\n",
    "    ) -> None:\n",
    "        self.prob = prob\n",
    "        self.nodes = nodes\n",
    "        self.node = random.choice(self.nodes)\n",
    "        self.rng = ensure_rng(rng)\n",
    "\n",
    "    def refresh_randomness(self):\n",
    "        self.node = random.choice(self.nodes)\n",
    "\n",
    "    def input_nodes(self, nodes: list[int]) -> NoiseCommands:\n",
    "        \"\"\"Return the noise to apply to input nodes.\"\"\"\n",
    "        return []\n",
    "\n",
    "    def command(self, cmd: CommandOrNoise) -> NoiseCommands:\n",
    "        \"\"\"Return the noise to apply to the command `cmd`.\"\"\"\n",
    "        return [cmd]\n",
    "\n",
    "    def confuse_result(self, cmd:BaseM, result: bool) -> bool:\n",
    "        \"\"\"Assign wrong measurement result cmd = \"M\".\"\"\"\n",
    "        if cmd.node == self.node and self.rng.uniform() < self.prob:\n",
    "            return not result\n",
    "        else:\n",
    "            return result\n",
    "    \n"
   ]
  },
  {
   "cell_type": "markdown",
   "metadata": {},
   "source": [
    "### Plotting distribution of trap round failure rate\n",
    "- For $N$ instances ($N$ different circuits)\n",
    "  - Run 100 test runs with a given global noise model\n",
    "  - plot the fraction of failed test rounds"
   ]
  },
  {
   "cell_type": "markdown",
   "metadata": {},
   "source": [
    "Stats for (n=4, d=10):\n",
    "- 10, 10, 10, 1 setting: 6 secondes\n",
    "- par règle de trois: 100, 100 et 100 ça fait donc 600 secondes, et 12 settings ça fait 2heures de calcul"
   ]
  },
  {
   "cell_type": "code",
   "execution_count": 17,
   "metadata": {},
   "outputs": [],
   "source": [
    "# Fixed parameters\n",
    "d = 100       # nr of computation rounds\n",
    "t = 100      # nr of test rounds\n",
    "N = d + t   # nr of total rounds\n",
    "num_instances = 100\n",
    "instances = random.sample(circuits, num_instances)\n",
    "backend = DensityMatrixBackend()\n",
    "settings = [\n",
    "            (0.1, 0.1),\n",
    "            (0.1, 0.2),\n",
    "            (0.1, 0.3),\n",
    "            (0.1, 0.4),\n",
    "            (0.1, 0.5),\n",
    "            (0.1, 0.6),\n",
    "            (0.2, 0.1),\n",
    "            (0.2, 0.2),\n",
    "            (0.2, 0.3),\n",
    "            (0.2, 0.4),\n",
    "            (0.2, 0.5),\n",
    "            (0.2, 0.6)\n",
    "]\n",
    "settings_dict = {i:settings[i] for i in range(len(settings))}\n",
    "\n",
    "simulation_results = {}\n",
    "for setting in settings_dict:\n",
    "    threshold, p_err = settings_dict[setting]\n",
    "    outcomes_dict = {}\n",
    "    for circuit in instances:\n",
    "        # Generate a different instance\n",
    "        pattern, onodes = load_pattern_from_circuit(circuit)\n",
    "\n",
    "        # Instanciate Client and create Test runs\n",
    "        client = Client(pattern=pattern, secrets=Secrets(a=True, r=True, theta=True))\n",
    "        colours = gospel.brickwork_state_transpiler.get_bipartite_coloring(pattern) \n",
    "        test_runs =  client.create_test_runs(manual_colouring=colours)\n",
    "\n",
    "        outcome_sum = 0\n",
    "        # Trappified scheme parameters\n",
    "\n",
    "        rounds = list(range(N))\n",
    "        random.shuffle(rounds)\n",
    "\n",
    "        n_failed_trap_rounds = 0\n",
    "        n_tolerated_failures = threshold*t\n",
    "\n",
    "        noise_model = GlobalNoiseModel(prob=p_err, nodes=range(pattern.n_node))\n",
    "        for i in rounds:\n",
    "            if i < d:\n",
    "                # Computation round\n",
    "                client.delegate_pattern(backend=backend, noise_model=noise_model)\n",
    "                outcome_sum += client.results[onodes[0]]\n",
    "            else:\n",
    "                # Test round\n",
    "                run = TrappifiedCanvas(random.choice(test_runs))\n",
    "                trap_outcomes = client.delegate_test_run(run=run, backend=backend, noise_model=noise_model)\n",
    "                noise_model.refresh_randomness()\n",
    "\n",
    "                # Record trap failure\n",
    "                # A trap round fails if one of the single-qubit traps failed\n",
    "                if sum(trap_outcomes) != 0:\n",
    "                    n_failed_trap_rounds += 1\n",
    "\n",
    "        decision = n_failed_trap_rounds < n_tolerated_failures # True if to accept, False if to reject\n",
    "\n",
    "        if outcome_sum == d/2:\n",
    "            outcome = \"Ambig.\"\n",
    "        else:\n",
    "            outcome = int(outcome_sum>d/2)\n",
    "        \n",
    "        outcomes_dict[circuit] = (decision, outcome, n_failed_trap_rounds/t)\n",
    "\n",
    "    simulation_results[setting] = outcomes_dict\n",
    "\n",
    "with open(\"simulation_results.json\", \"w\") as file:\n",
    "    json.dump(simulation_results, file, indent=4)\n",
    "    "
   ]
  },
  {
   "cell_type": "markdown",
   "metadata": {},
   "source": [
    "Useful information:\n",
    "- proportion of failed test rounds by instance, and plot over all instances\n",
    "- notify whenever we accepted an outcome that was the wrong one (i.e accepting an outcome that is not zero.)\n",
    "- for one value of the threshold, see what happens as soon as the noise increases: see that the proportion of rejection is just huge\n",
    "- show that for low noise and high threshold, we actually always accept"
   ]
  },
  {
   "cell_type": "code",
   "execution_count": null,
   "metadata": {},
   "outputs": [],
   "source": [
    "threshold, p_err = 0.2, 0.6\n",
    "threshold, p_err = 0.1, 0.6\n",
    "threshold, p_err = 0.2, 0.6\n",
    "threshold, p_err = 0.1, 0.1\n",
    "\n",
    "# Recording info\n",
    "fail_rates = []\n",
    "decision_dict = {}\n",
    "outcomes_dict = {}\n",
    "\n",
    "# Fixed parameters\n",
    "d = 100       # nr of computation rounds\n",
    "t = 100      # nr of test rounds\n",
    "N = d + t   # nr of total rounds\n",
    "num_instances = 100\n",
    "instances = random.sample(circuits, num_instances)\n",
    "\n",
    "\n",
    "backend = DensityMatrixBackend()\n",
    "\n",
    "for circuit in instances:\n",
    "    # Generate a different instance\n",
    "    pattern, onodes = load_pattern_from_circuit(circuit)\n",
    "\n",
    "    # Instanciate Client and create Test runs\n",
    "    client = Client(pattern=pattern, secrets=Secrets(a=True, r=True, theta=True))\n",
    "    colours = gospel.brickwork_state_transpiler.get_bipartite_coloring(pattern) \n",
    "    test_runs =  client.create_test_runs(manual_colouring=colours)\n",
    "\n",
    "    outcome_sum = 0\n",
    "    # Trappified scheme parameters\n",
    "\n",
    "    rounds = list(range(N))\n",
    "    random.shuffle(rounds)\n",
    "\n",
    "    n_failed_trap_rounds = 0\n",
    "    n_tolerated_failures = threshold*t\n",
    "\n",
    "    noise_model = GlobalNoiseModel(prob=p_err, nodes=range(pattern.n_node))\n",
    "    for i in rounds:\n",
    "        if i < d:\n",
    "            # Computation round\n",
    "            client.delegate_pattern(backend=backend, noise_model=noise_model)\n",
    "            outcome_sum += client.results[onodes[0]]\n",
    "        else:\n",
    "            # Test round\n",
    "            run = TrappifiedCanvas(random.choice(test_runs))\n",
    "            trap_outcomes = client.delegate_test_run(run=run, backend=backend, noise_model=noise_model)\n",
    "            noise_model.refresh_randomness()\n",
    "\n",
    "            # Record trap failure\n",
    "            # A trap round fails if one of the single-qubit traps failed\n",
    "            if sum(trap_outcomes) != 0:\n",
    "                n_failed_trap_rounds += 1\n",
    "\n",
    "    decision = n_failed_trap_rounds < n_tolerated_failures # True if to accept, False if to reject\n",
    "\n",
    "    if outcome_sum == d/2:\n",
    "        outcome = \"Ambig.\"\n",
    "    else:\n",
    "        outcome = int(outcome_sum>d/2)\n",
    "    outcomes_dict[circuit] = (decision, outcome, n_failed_trap_rounds/t)\n",
    "\n",
    "    # fail_rates.append(n_failed_trap_rounds/t)\n",
    "\n",
    "\n",
    "# expected = p_err/len(test_runs)\n"
   ]
  },
  {
   "cell_type": "markdown",
   "metadata": {},
   "source": [
    "Saving the outcomes"
   ]
  },
  {
   "cell_type": "code",
   "execution_count": 10,
   "metadata": {},
   "outputs": [],
   "source": [
    "import json\n",
    "with open(\"simulation_results.json\", \"w\") as file:\n",
    "    json.dump(simulation_results, file, indent=4)"
   ]
  },
  {
   "cell_type": "markdown",
   "metadata": {},
   "source": [
    "Generating the plot"
   ]
  },
  {
   "cell_type": "code",
   "execution_count": null,
   "metadata": {},
   "outputs": [],
   "source": [
    "print(simulation_results)\n"
   ]
  },
  {
   "cell_type": "code",
   "execution_count": null,
   "metadata": {},
   "outputs": [],
   "source": [
    "# Compute expected value\n",
    "expected = p_err / len(test_runs)  # Assuming 10 single-qubit traps per test round\n",
    "\n",
    "# Plot histogram\n",
    "plt.figure(figsize=(8, 5))\n",
    "counts, bins, _ = plt.hist(fail_rates, bins=8, density=True, alpha=0.6, color='b', label='Simulated Data')\n",
    "\n",
    "# Fit Gaussian curve\n",
    "mu, std = norm.fit(fail_rates)\n",
    "x = np.linspace(min(bins), max(bins), 100)\n",
    "p = norm.pdf(x, mu, std)\n",
    "plt.plot(x, p, 'r-', linewidth=2, label='Gaussian Fit')\n",
    "\n",
    "# Vertical line for expected value\n",
    "plt.axvline(expected, color='k', linestyle='dashed', linewidth=2, label='Expected Value')\n",
    "\n",
    "plt.xlabel('Failure Rate (n_failed_trap_rounds/t)')\n",
    "plt.ylabel('Density')\n",
    "plt.title('Histogram of Failure Rates with Gaussian Fit')\n",
    "plt.legend()\n",
    "plt.show()"
   ]
  },
  {
   "cell_type": "markdown",
   "metadata": {},
   "source": [
    "### Plotting the trap failure data\n",
    "Working on the output first..."
   ]
  },
  {
   "cell_type": "code",
   "execution_count": null,
   "metadata": {},
   "outputs": [],
   "source": [
    "print(len(test_outcome_table))\n",
    "occurences = {}\n",
    "occurences_one = {}\n",
    "\n",
    "for results in test_outcome_table:\n",
    "    for q, r in results.items():\n",
    "        if q not in occurences:\n",
    "            occurences[q] = 1\n",
    "            occurences_one[q] = r\n",
    "        else:\n",
    "            occurences[q] += 1\n",
    "            if r == 1:\n",
    "                occurences_one[q] += 1\n",
    "\n",
    "failure_proba = {q: occurences_one[q] / occurences[q] for q in occurences}\n",
    "print(failure_proba)\n"
   ]
  },
  {
   "cell_type": "code",
   "execution_count": null,
   "metadata": {},
   "outputs": [],
   "source": [
    "# change this to save the figure\n",
    "path = Path(\"simulation/\")\n",
    "target = \"pic2.svg\"\n",
    "\n",
    "draw_brickwork_state_colormap(circuit=circuit, target=path / target, failure_probas=failure_proba)"
   ]
  },
  {
   "cell_type": "markdown",
   "metadata": {},
   "source": [
    "#### Full computation (computation and tests rounds)\n",
    "\n",
    "todo"
   ]
  },
  {
   "cell_type": "code",
   "execution_count": null,
   "metadata": {},
   "outputs": [],
   "source": [
    "def make_clifford(pattern: graphix.Pattern):\n",
    "    clifford_pattern = graphix.Pattern(pattern.input_nodes)\n",
    "    for cmd in pattern:\n",
    "        clifford_pattern.add(cmd)\n",
    "    for cmd in clifford_pattern:\n",
    "        if cmd.kind == graphix.command.CommandKind.M:\n",
    "            new_angle = random.choice([0, 1 / 2, 1, 3 / 2])\n",
    "            cmd.angle = new_angle\n",
    "    return clifford_pattern"
   ]
  },
  {
   "cell_type": "code",
   "execution_count": null,
   "metadata": {},
   "outputs": [],
   "source": [
    "backend = DensityMatrixBackend()\n",
    "\n",
    "\n",
    "# Noiseless computation run\n",
    "client.delegate_pattern(backend=backend)\n",
    "for onode in classical_output:\n",
    "    print(client.results[onode])\n",
    "\n",
    "\n",
    "# Noiseless trap run\n",
    "noiseless_model = DepolarisingNoiseModel(entanglement_error_prob=0)\n",
    "rd_run = random.choice(runs)\n",
    "trap_outcomes = client.delegate_test_run(\n",
    "    backend=backend, run=rd_run, noise_model=noiseless_model\n",
    ")\n",
    "print(\n",
    "    f\"Trap outcome of noiseless trap run: {sum(trap_outcomes)}\"\n",
    ")  # should output 0 (noiseless simulation)\n",
    "\n",
    "# (ultra) Noisy trap run\n",
    "ultra_noisy_model = DepolarisingNoiseModel(entanglement_error_prob=1)\n",
    "rd_run = random.choice(runs)\n",
    "trap_outcomes = client.delegate_test_run(\n",
    "    backend=backend, run=rd_run, noise_model=ultra_noisy_model\n",
    ")\n",
    "print(\n",
    "    f\"Trap outcome of noisy trap run: {sum(trap_outcomes)}\"\n",
    ")  # should NOT output 0 (noisy simulation)\n"
   ]
  }
 ],
 "metadata": {
  "kernelspec": {
   "display_name": "gospel",
   "language": "python",
   "name": "python3"
  },
  "language_info": {
   "codemirror_mode": {
    "name": "ipython",
    "version": 3
   },
   "file_extension": ".py",
   "mimetype": "text/x-python",
   "name": "python",
   "nbconvert_exporter": "python",
   "pygments_lexer": "ipython3",
   "version": "3.12.9"
  }
 },
 "nbformat": 4,
 "nbformat_minor": 2
}
